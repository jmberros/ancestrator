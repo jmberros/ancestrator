{
 "cells": [
  {
   "cell_type": "code",
   "execution_count": 1,
   "metadata": {
    "collapsed": false
   },
   "outputs": [
    {
     "name": "stdout",
     "output_type": "stream",
     "text": [
      "The autoreload extension is already loaded. To reload it, use:\n",
      "  %reload_ext autoreload\n"
     ]
    }
   ],
   "source": [
    "%load_ext autoreload\n",
    "%autoreload 2\n",
    "%matplotlib inline\n",
    "\n",
    "from ancestrator import *\n",
    "import pandas as pd\n",
    "import matplotlib.pyplot as plt\n",
    "import seaborn as sns"
   ]
  },
  {
   "cell_type": "markdown",
   "metadata": {},
   "source": [
    "# $F_{ST}$ Latinos (between populations) & LEA (between regions)"
   ]
  },
  {
   "cell_type": "code",
   "execution_count": 102,
   "metadata": {
    "collapsed": false
   },
   "outputs": [
    {
     "data": {
      "text/html": [
       "<div>\n",
       "<table border=\"1\" class=\"dataframe\">\n",
       "  <thead>\n",
       "    <tr style=\"text-align: right;\">\n",
       "      <th></th>\n",
       "      <th></th>\n",
       "      <th>CPx1 · 438 SNPs</th>\n",
       "      <th>CPx10 · 4,424 SNPs</th>\n",
       "      <th>CPx100 · 43,144 SNPs</th>\n",
       "      <th>GAL_Completo · 445 SNPs</th>\n",
       "      <th>GAL_Affy · 179 SNPs</th>\n",
       "      <th>GAL_Affy · SubPanel_100</th>\n",
       "      <th>GAL_Affy · SubPanel_50</th>\n",
       "      <th>GAL_Affy · SubPanel_25</th>\n",
       "      <th>GAL_Affy · SubPanel_20</th>\n",
       "      <th>GAL_Affy · SubPanel_15</th>\n",
       "    </tr>\n",
       "    <tr>\n",
       "      <th>level</th>\n",
       "      <th>dataset</th>\n",
       "      <th></th>\n",
       "      <th></th>\n",
       "      <th></th>\n",
       "      <th></th>\n",
       "      <th></th>\n",
       "      <th></th>\n",
       "      <th></th>\n",
       "      <th></th>\n",
       "      <th></th>\n",
       "      <th></th>\n",
       "    </tr>\n",
       "  </thead>\n",
       "  <tbody>\n",
       "    <tr>\n",
       "      <th>population</th>\n",
       "      <th>L</th>\n",
       "      <td>0.018299</td>\n",
       "      <td>0.018825</td>\n",
       "      <td>0.018854</td>\n",
       "      <td>0.104449</td>\n",
       "      <td>0.099087</td>\n",
       "      <td>0.092496</td>\n",
       "      <td>0.071592</td>\n",
       "      <td>0.088894</td>\n",
       "      <td>0.093338</td>\n",
       "      <td>0.076157</td>\n",
       "    </tr>\n",
       "    <tr>\n",
       "      <th rowspan=\"4\" valign=\"top\">region</th>\n",
       "      <th>LE</th>\n",
       "      <td>0.017955</td>\n",
       "      <td>0.018871</td>\n",
       "      <td>0.018389</td>\n",
       "      <td>0.121449</td>\n",
       "      <td>0.110167</td>\n",
       "      <td>0.066356</td>\n",
       "      <td>0.053685</td>\n",
       "      <td>0.075780</td>\n",
       "      <td>0.082116</td>\n",
       "      <td>0.066855</td>\n",
       "    </tr>\n",
       "    <tr>\n",
       "      <th>LEA</th>\n",
       "      <td>0.068920</td>\n",
       "      <td>0.066504</td>\n",
       "      <td>0.065758</td>\n",
       "      <td>0.348847</td>\n",
       "      <td>0.386319</td>\n",
       "      <td>0.451967</td>\n",
       "      <td>0.532849</td>\n",
       "      <td>0.518940</td>\n",
       "      <td>0.507876</td>\n",
       "      <td>0.546644</td>\n",
       "    </tr>\n",
       "    <tr>\n",
       "      <th>LEAC</th>\n",
       "      <td>0.079672</td>\n",
       "      <td>0.075545</td>\n",
       "      <td>0.074351</td>\n",
       "      <td>0.315325</td>\n",
       "      <td>0.347403</td>\n",
       "      <td>0.410760</td>\n",
       "      <td>0.483638</td>\n",
       "      <td>0.471756</td>\n",
       "      <td>0.463890</td>\n",
       "      <td>0.479910</td>\n",
       "    </tr>\n",
       "    <tr>\n",
       "      <th>LEACI</th>\n",
       "      <td>0.074791</td>\n",
       "      <td>0.071325</td>\n",
       "      <td>0.070097</td>\n",
       "      <td>0.290450</td>\n",
       "      <td>0.322094</td>\n",
       "      <td>0.382093</td>\n",
       "      <td>0.450315</td>\n",
       "      <td>0.439977</td>\n",
       "      <td>0.434481</td>\n",
       "      <td>0.447036</td>\n",
       "    </tr>\n",
       "  </tbody>\n",
       "</table>\n",
       "</div>"
      ],
      "text/plain": [
       "                    CPx1 · 438 SNPs  CPx10 · 4,424 SNPs  CPx100 · 43,144 SNPs  \\\n",
       "level      dataset                                                              \n",
       "population L               0.018299            0.018825              0.018854   \n",
       "region     LE              0.017955            0.018871              0.018389   \n",
       "           LEA             0.068920            0.066504              0.065758   \n",
       "           LEAC            0.079672            0.075545              0.074351   \n",
       "           LEACI           0.074791            0.071325              0.070097   \n",
       "\n",
       "                    GAL_Completo · 445 SNPs  GAL_Affy · 179 SNPs  \\\n",
       "level      dataset                                                 \n",
       "population L                       0.104449             0.099087   \n",
       "region     LE                      0.121449             0.110167   \n",
       "           LEA                     0.348847             0.386319   \n",
       "           LEAC                    0.315325             0.347403   \n",
       "           LEACI                   0.290450             0.322094   \n",
       "\n",
       "                    GAL_Affy · SubPanel_100  GAL_Affy · SubPanel_50  \\\n",
       "level      dataset                                                    \n",
       "population L                       0.092496                0.071592   \n",
       "region     LE                      0.066356                0.053685   \n",
       "           LEA                     0.451967                0.532849   \n",
       "           LEAC                    0.410760                0.483638   \n",
       "           LEACI                   0.382093                0.450315   \n",
       "\n",
       "                    GAL_Affy · SubPanel_25  GAL_Affy · SubPanel_20  \\\n",
       "level      dataset                                                   \n",
       "population L                      0.088894                0.093338   \n",
       "region     LE                     0.075780                0.082116   \n",
       "           LEA                    0.518940                0.507876   \n",
       "           LEAC                   0.471756                0.463890   \n",
       "           LEACI                  0.439977                0.434481   \n",
       "\n",
       "                    GAL_Affy · SubPanel_15  \n",
       "level      dataset                          \n",
       "population L                      0.076157  \n",
       "region     LE                     0.066855  \n",
       "           LEA                    0.546644  \n",
       "           LEAC                   0.479910  \n",
       "           LEACI                  0.447036  "
      ]
     },
     "execution_count": 102,
     "metadata": {},
     "output_type": "execute_result"
    }
   ],
   "source": [
    "from itertools import product\n",
    "\n",
    "datasets = [Dataset(\"1000Genomes\", label)\n",
    "            for label in ['L', 'LE', 'LEA', 'LEAC', 'LEACI']]\n",
    "\n",
    "panel_labels = [\"GAL_Completo\", \"GAL_Affy\",\n",
    "                \"CPx1\", \"CPx10\", \"CPx100\",\n",
    "                \"100_SNPs_from_GAL_Affy\", \"50_SNPs_from_GAL_Affy\",\n",
    "                \"25_SNPs_from_GAL_Affy\", \"20_SNPs_from_GAL_Affy\",\n",
    "                \"15_SNPs_from_GAL_Affy\"]\n",
    "\n",
    "frames = []\n",
    "for panel_label, dataset in product(panel_labels, datasets):\n",
    "    dataset.set_panel(panel_label)\n",
    "    if dataset.label == 'L':\n",
    "        df = dataset.run_fst('population')\n",
    "        df['level'] = 'population'\n",
    "    else:\n",
    "        df = dataset.run_fst('region')\n",
    "        df['level'] = 'region'\n",
    "    df['dataset'] = dataset.label\n",
    "    df['panel'] = panel_label\n",
    "    frames.append(df)\n",
    "\n",
    "mean_fst = pd.concat(frames).groupby(['level', 'dataset', 'panel']).mean().unstack('panel')['Fst']\n",
    "sort_panels = [\"CPx1\", \"CPx10\", \"CPx100\", \"GAL_Completo\", \"GAL_Affy\",\n",
    "               \"100_SNPs_from_GAL_Affy\", \"50_SNPs_from_GAL_Affy\",\n",
    "               \"25_SNPs_from_GAL_Affy\", \"20_SNPs_from_GAL_Affy\",\n",
    "               \"15_SNPs_from_GAL_Affy\"]\n",
    "mean_fst = mean_fst[sort_panels]\n",
    "mean_fst.columns = [Panel(panel_label).name for panel_label in mean_fst.columns]\n",
    "mean_fst"
   ]
  },
  {
   "cell_type": "code",
   "execution_count": 100,
   "metadata": {
    "collapsed": false
   },
   "outputs": [
    {
     "name": "stdout",
     "output_type": "stream",
     "text": [
      "Fst promedio (todos los datasets)\n",
      "/home/juan/tesina/charts/panel_analyses/fst_barchart__all\n"
     ]
    },
    {
     "data": {
      "image/png": "[encoded data removed]",
      "text/plain": [
       "<matplotlib.figure.Figure at 0x7f4023958cc0>"
      ]
     },
     "metadata": {},
     "output_type": "display_data"
    }
   ],
   "source": [
    "import numpy as np\n",
    "from os.path import expanduser, join\n",
    "\n",
    "\n",
    "fdir = expanduser(\"~/tesina/charts/panel_analyses\")\n",
    "\n",
    "sns.set_context(\"paper\", font_scale=1.5)\n",
    "sns.set_style(\"ticks\")\n",
    "sns.set_style(\"white\")\n",
    "\n",
    "\n",
    "df = mean_fst.copy()\n",
    "\n",
    "color = sns.color_palette(\"Set1\", 5)\n",
    "ax = df.T.plot(figsize=(14, 5.5), rot=0, color=color, linestyle=\"dotted\",\n",
    "               marker=\"o\", markersize=10) #, width=0.8) # kind=\"bar\", \n",
    "ax.set_ylabel(\"$F_{ST}$\", fontsize=18, fontweight=\"bold\")\n",
    "ax.legend(fancybox=True, loc=\"best\", bbox_to_anchor=(1.01, .75),\n",
    "          title=\"Datasets\")\n",
    "\n",
    "# Annotate groups of panels\n",
    "ax.axvline(2.5, color=\"darkgray\")\n",
    "ax.axvline(4.5, color=\"darkgray\")\n",
    "text_yloc = 0.8\n",
    "texts = [(1, text_yloc, \"Paneles CP\"),\n",
    "         (3.5, text_yloc, \"Paneles GAL\"),\n",
    "         (7, text_yloc, \"Subpaneles GAL\")]\n",
    "for params in texts:\n",
    "    ax.text(*params, fontsize=18, horizontalalignment=\"center\",\n",
    "            family=\"monospace\", fontname=\"Courier\")\n",
    "\n",
    "ax.set_ylim([0, 1])\n",
    "ygrid_points = np.linspace(0, 1, 6)\n",
    "ax.set_yticks(ygrid_points)\n",
    "\n",
    "ax.set_xlim([-0.5, 9.5])\n",
    "ax.set_xticks(np.linspace(0, 9, 10))\n",
    "\n",
    "ax.set_xticklabels(xticklabels, rotation=0)\n",
    "sns.despine(left=True)\n",
    "ax.xaxis.grid(False)\n",
    "\n",
    "# Remake legend labels\n",
    "handles, labels = ax.get_legend_handles_labels()\n",
    "trans = {\"population\": \"poblaciones\", \"region\": \"continentes\"}\n",
    "\n",
    "new_labels = []\n",
    "for label in labels:\n",
    "    level, dataset = label.split(', ')\n",
    "    level = level.replace('(', '')\n",
    "    dataset = dataset.replace(')', '')\n",
    "    new_labels.append('{}, $F_{{ST}}$ entre {}'.format(dataset, trans[level]))\n",
    "    \n",
    "ax.legend(handles, new_labels, bbox_to_anchor=(1.15, 1.1),\n",
    "          frameon=True, fancybox=True)\n",
    "\n",
    "caption = \"Fst promedio (todos los datasets)\"\n",
    "filepath = join(fdir, \"fst_barchart__all\")\n",
    "plt.savefig(filepath, bbox_inches=\"tight\")\n",
    "print(caption)\n",
    "print(filepath)\n",
    "plt.show()"
   ]
  },
  {
   "cell_type": "code",
   "execution_count": 55,
   "metadata": {
    "collapsed": false
   },
   "outputs": [
    {
     "name": "stdout",
     "output_type": "stream",
     "text": [
      "dataset                      L\n",
      "CPx1 · 438 SNPs          0.018\n",
      "CPx10 · 4,424 SNPs       0.019\n",
      "CPx100 · 43,144 SNPs     0.019\n",
      "GAL_Completo · 445 SNPs  0.104\n",
      "GAL_Affy · 179 SNPs      0.099\n",
      "GAL_Affy · SubPanel_100  0.092\n",
      "GAL_Affy · SubPanel_50   0.072\n",
      "GAL_Affy · SubPanel_25   0.089\n",
      "GAL_Affy · SubPanel_20   0.093\n",
      "GAL_Affy · SubPanel_15   0.076\n",
      "\n",
      "\\begin{tabular}{lr}\n",
      "\\toprule\n",
      "dataset &      L \\\\\n",
      "\\midrule\n",
      "CPx1 · 438 SNPs         &  0.018 \\\\\n",
      "CPx10 · 4,424 SNPs      &  0.019 \\\\\n",
      "CPx100 · 43,144 SNPs    &  0.019 \\\\\n",
      "GAL\\_Completo · 445 SNPs &  0.104 \\\\\n",
      "GAL\\_Affy · 179 SNPs     &  0.099 \\\\\n",
      "GAL\\_Affy · SubPanel\\_100 &  0.092 \\\\\n",
      "GAL\\_Affy · SubPanel\\_50  &  0.072 \\\\\n",
      "GAL\\_Affy · SubPanel\\_25  &  0.089 \\\\\n",
      "GAL\\_Affy · SubPanel\\_20  &  0.093 \\\\\n",
      "GAL\\_Affy · SubPanel\\_15  &  0.076 \\\\\n",
      "\\bottomrule\n",
      "\\end{tabular}\n",
      "\n"
     ]
    }
   ],
   "source": [
    "df = mean_fst.loc['population'].T.applymap(lambda x: round(x, 3))\n",
    "print(df)\n",
    "print()\n",
    "print(df.to_latex())"
   ]
  },
  {
   "cell_type": "code",
   "execution_count": null,
   "metadata": {
    "collapsed": true
   },
   "outputs": [],
   "source": []
  },
  {
   "cell_type": "code",
   "execution_count": null,
   "metadata": {
    "collapsed": true
   },
   "outputs": [],
   "source": []
  },
  {
   "cell_type": "code",
   "execution_count": null,
   "metadata": {
    "collapsed": true
   },
   "outputs": [],
   "source": []
  },
  {
   "cell_type": "code",
   "execution_count": null,
   "metadata": {
    "collapsed": true
   },
   "outputs": [],
   "source": []
  },
  {
   "cell_type": "code",
   "execution_count": null,
   "metadata": {
    "collapsed": true
   },
   "outputs": [],
   "source": []
  },
  {
   "cell_type": "code",
   "execution_count": null,
   "metadata": {
    "collapsed": true
   },
   "outputs": [],
   "source": []
  },
  {
   "cell_type": "code",
   "execution_count": null,
   "metadata": {
    "collapsed": true
   },
   "outputs": [],
   "source": []
  },
  {
   "cell_type": "code",
   "execution_count": null,
   "metadata": {
    "collapsed": true
   },
   "outputs": [],
   "source": []
  },
  {
   "cell_type": "code",
   "execution_count": null,
   "metadata": {
    "collapsed": true
   },
   "outputs": [],
   "source": []
  },
  {
   "cell_type": "code",
   "execution_count": null,
   "metadata": {
    "collapsed": true
   },
   "outputs": [],
   "source": []
  },
  {
   "cell_type": "code",
   "execution_count": null,
   "metadata": {
    "collapsed": true
   },
   "outputs": [],
   "source": []
  },
  {
   "cell_type": "code",
   "execution_count": null,
   "metadata": {
    "collapsed": true
   },
   "outputs": [],
   "source": []
  },
  {
   "cell_type": "code",
   "execution_count": null,
   "metadata": {
    "collapsed": true
   },
   "outputs": [],
   "source": []
  },
  {
   "cell_type": "code",
   "execution_count": null,
   "metadata": {
    "collapsed": true
   },
   "outputs": [],
   "source": []
  },
  {
   "cell_type": "code",
   "execution_count": null,
   "metadata": {
    "collapsed": true
   },
   "outputs": [],
   "source": []
  },
  {
   "cell_type": "code",
   "execution_count": null,
   "metadata": {
    "collapsed": true
   },
   "outputs": [],
   "source": []
  },
  {
   "cell_type": "code",
   "execution_count": null,
   "metadata": {
    "collapsed": true
   },
   "outputs": [],
   "source": []
  },
  {
   "cell_type": "code",
   "execution_count": null,
   "metadata": {
    "collapsed": true
   },
   "outputs": [],
   "source": []
  },
  {
   "cell_type": "code",
   "execution_count": null,
   "metadata": {
    "collapsed": true
   },
   "outputs": [],
   "source": []
  },
  {
   "cell_type": "code",
   "execution_count": null,
   "metadata": {
    "collapsed": true
   },
   "outputs": [],
   "source": []
  },
  {
   "cell_type": "code",
   "execution_count": null,
   "metadata": {
    "collapsed": true
   },
   "outputs": [],
   "source": []
  },
  {
   "cell_type": "code",
   "execution_count": null,
   "metadata": {
    "collapsed": true
   },
   "outputs": [],
   "source": []
  },
  {
   "cell_type": "code",
   "execution_count": null,
   "metadata": {
    "collapsed": true
   },
   "outputs": [],
   "source": []
  },
  {
   "cell_type": "code",
   "execution_count": null,
   "metadata": {
    "collapsed": true
   },
   "outputs": [],
   "source": []
  }
 ],
 "metadata": {
  "kernelspec": {
   "display_name": "Python 3",
   "language": "python",
   "name": "python3"
  },
  "language_info": {
   "codemirror_mode": {
    "name": "ipython",
    "version": 3
   },
   "file_extension": ".py",
   "mimetype": "text/x-python",
   "name": "python",
   "nbconvert_exporter": "python",
   "pygments_lexer": "ipython3",
   "version": "3.5.1"
  }
 },
 "nbformat": 4,
 "nbformat_minor": 0
}
